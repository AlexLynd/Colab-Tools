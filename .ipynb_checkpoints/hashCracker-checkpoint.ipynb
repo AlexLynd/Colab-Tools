{
 "cells": [
  {
   "cell_type": "markdown",
   "metadata": {
    "colab_type": "text",
    "id": "view-in-github"
   },
   "source": [
    "<a href=\"https://colab.research.google.com/github/AlexLynd/Colab-Tools/blob/master/hashCracker.ipynb\" target=\"_parent\"><img src=\"https://colab.research.google.com/assets/colab-badge.svg\" alt=\"Open In Colab\"/></a>"
   ]
  },
  {
   "cell_type": "markdown",
   "metadata": {
    "colab_type": "text",
    "id": "UfthDW0MhmDx"
   },
   "source": [
    "## Set up tools\n",
    "\n",
    "---\n",
    "\n"
   ]
  },
  {
   "cell_type": "code",
   "execution_count": null,
   "metadata": {
    "colab": {},
    "colab_type": "code",
    "id": "enb0qhe4DnJC"
   },
   "outputs": [],
   "source": [
    "# install hashcat and dependencies\n",
    "!git clone https://github.com/hashcat/hashcat.git && cd hashcat && make -j `nproc` && make install "
   ]
  },
  {
   "cell_type": "code",
   "execution_count": null,
   "metadata": {
    "colab": {},
    "colab_type": "code",
    "id": "NX3Dw2GC7K4-"
   },
   "outputs": [],
   "source": [
    "# benchmark hashcat\n",
    "!hashcat -m 2500 -w 4 -b"
   ]
  },
  {
   "cell_type": "markdown",
   "metadata": {
    "colab_type": "text",
    "id": "rq-3WD56B6ea"
   },
   "source": [
    "## Upload wordlist\n",
    "\n",
    "\n",
    "---\n",
    "\n"
   ]
  },
  {
   "cell_type": "markdown",
   "metadata": {
    "colab_type": "text",
    "id": "x5QqfRnfOdag"
   },
   "source": [
    "Upload custom wordlist\n"
   ]
  },
  {
   "cell_type": "code",
   "execution_count": null,
   "metadata": {
    "colab": {},
    "colab_type": "code",
    "id": "hInGz29HJuXU"
   },
   "outputs": [],
   "source": [
    "#upload to runtime only (deletes after session closed)\n",
    "from google.colab import files\n",
    "uploaded = files.upload()\n",
    "\n",
    "for fn in uploaded.keys(): filename = fn"
   ]
  },
  {
   "cell_type": "markdown",
   "metadata": {
    "colab_type": "text",
    "id": "Hu1V0RsNNomM"
   },
   "source": [
    "Download wordlist from internet"
   ]
  },
  {
   "cell_type": "code",
   "execution_count": null,
   "metadata": {
    "colab": {},
    "colab_type": "code",
    "id": "HHv4ADESNmzG"
   },
   "outputs": [],
   "source": [
    "# download wordlist to runtime (deletes after session closed)\n",
    "!wget https://raw.githubusercontent.com/danielmiessler/SecLists/master/Passwords/Common-Credentials/10-million-password-list-top-10000.txt -O top10000.txt\n",
    "filename = \"top10000.txt\""
   ]
  },
  {
   "cell_type": "markdown",
   "metadata": {
    "colab_type": "text",
    "id": "30OYnoN956D6"
   },
   "source": [
    "Upload wordlists to Drive for persistent use "
   ]
  },
  {
   "cell_type": "code",
   "execution_count": null,
   "metadata": {
    "colab": {},
    "colab_type": "code",
    "id": "Sur_3ogRMw10"
   },
   "outputs": [],
   "source": [
    "#upload wordlist to Drive (saves wordlist for later sessions)\n",
    "\n",
    "#authenticate user\n",
    "from pydrive.auth import GoogleAuth\n",
    "from pydrive.drive import GoogleDrive\n",
    "from google.colab import auth\n",
    "from oauth2client.client import GoogleCredentials\n",
    "import os\n",
    "\n",
    "auth.authenticate_user()\n",
    "gauth = GoogleAuth()\n",
    "gauth.credentials = GoogleCredentials.get_application_default()\n",
    "drive = GoogleDrive(gauth)\n",
    "\n",
    "with open(filename,\"r\") as file:\n",
    "  file_drive = drive.CreateFile({'title':os.path.basename(file.name) })  \n",
    "  file_drive.SetContentString(file.read()) \n",
    "  file_drive.Upload()"
   ]
  },
  {
   "cell_type": "markdown",
   "metadata": {
    "colab_type": "text",
    "id": "DyrTfSlg6IFo"
   },
   "source": [
    "## Mount Google Drive\n",
    "\n",
    "---\n",
    "\n"
   ]
  },
  {
   "cell_type": "code",
   "execution_count": null,
   "metadata": {
    "colab": {},
    "colab_type": "code",
    "id": "V0-1wIjU6HHG"
   },
   "outputs": [],
   "source": [
    "# mount Drive to access files\n",
    "from google.colab import drive\n",
    "drive.mount('/content/drive')"
   ]
  },
  {
   "cell_type": "markdown",
   "metadata": {
    "colab_type": "text",
    "id": "pUQ3mFxMCBf4"
   },
   "source": [
    "## Upload file to crack\n",
    "\n",
    "\n",
    "---\n",
    "\n"
   ]
  },
  {
   "cell_type": "code",
   "execution_count": null,
   "metadata": {
    "colab": {},
    "colab_type": "code",
    "id": "t3Jb5AunBxck"
   },
   "outputs": [],
   "source": [
    "#file only saves to runtime, deletes after session is closed\n",
    "from google.colab import files\n",
    "uploaded = files.upload()"
   ]
  },
  {
   "cell_type": "markdown",
   "metadata": {
    "colab_type": "text",
    "id": "jNxMNePSQYy_"
   },
   "source": [
    "## Crack it!\n",
    "\n",
    "---\n",
    "\n"
   ]
  },
  {
   "cell_type": "markdown",
   "metadata": {
    "colab_type": "text",
    "id": "51ni-QAuCPax"
   },
   "source": [
    "*check GitHub for runtime clicker code*"
   ]
  },
  {
   "cell_type": "markdown",
   "metadata": {
    "colab_type": "text",
    "id": "MpE3-B-8hWcQ"
   },
   "source": [
    "Setup SSH (full Linux environment, better for long sessions)"
   ]
  },
  {
   "cell_type": "code",
   "execution_count": null,
   "metadata": {
    "colab": {},
    "colab_type": "code",
    "id": "ZWY9ORu2hOL1"
   },
   "outputs": [],
   "source": [
    "# sign up for Ngrok first\n",
    "!pip install git+https://github.com/demotomohiro/remocolab.git\n",
    "import remocolab\n",
    "remocolab.setupSSHD()"
   ]
  },
  {
   "cell_type": "code",
   "execution_count": null,
   "metadata": {
    "colab": {},
    "colab_type": "code",
    "id": "Z5lDhjaQiiSy"
   },
   "outputs": [],
   "source": [
    "!/bin/bash # invokes bash shell, but input is hidden"
   ]
  },
  {
   "cell_type": "markdown",
   "metadata": {
    "colab_type": "text",
    "id": "0KpU8mC8iDaW"
   },
   "source": [
    "Put code below to run!"
   ]
  },
  {
   "cell_type": "code",
   "execution_count": null,
   "metadata": {
    "colab": {},
    "colab_type": "code",
    "id": "JbATZbP-Ql-D"
   },
   "outputs": [],
   "source": [
    "!hashcat -m 2500 -w 4 fileToCrack.txt wordlist.txt "
   ]
  }
 ],
 "metadata": {
  "accelerator": "GPU",
  "colab": {
   "collapsed_sections": [],
   "include_colab_link": true,
   "name": "test.ipynb",
   "provenance": [],
   "toc_visible": true
  },
  "kernelspec": {
   "display_name": "Python 3",
   "language": "python",
   "name": "python3"
  },
  "language_info": {
   "codemirror_mode": {
    "name": "ipython",
    "version": 3
   },
   "file_extension": ".py",
   "mimetype": "text/x-python",
   "name": "python",
   "nbconvert_exporter": "python",
   "pygments_lexer": "ipython3",
   "version": "3.8.10"
  }
 },
 "nbformat": 4,
 "nbformat_minor": 1
}
