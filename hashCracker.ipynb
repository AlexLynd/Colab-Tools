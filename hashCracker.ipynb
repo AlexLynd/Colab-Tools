{
  "nbformat": 4,
  "nbformat_minor": 0,
  "metadata": {
    "colab": {
      "name": "test.ipynb",
      "provenance": [],
      "collapsed_sections": [],
      "toc_visible": true,
      "include_colab_link": true
    },
    "kernelspec": {
      "name": "python3",
      "display_name": "Python 3"
    },
    "accelerator": "GPU"
  },
  "cells": [
    {
      "cell_type": "markdown",
      "metadata": {
        "id": "view-in-github",
        "colab_type": "text"
      },
      "source": [
        "<a href=\"https://colab.research.google.com/github/AlexLynd/Colab-Tools/blob/master/hashCracker.ipynb\" target=\"_parent\"><img src=\"https://colab.research.google.com/assets/colab-badge.svg\" alt=\"Open In Colab\"/></a>"
      ]
    },
    {
      "cell_type": "markdown",
      "metadata": {
        "id": "UfthDW0MhmDx",
        "colab_type": "text"
      },
      "source": [
        "## Setup Tools"
      ]
    },
    {
      "cell_type": "code",
      "metadata": {
        "id": "enb0qhe4DnJC",
        "colab_type": "code",
        "colab": {}
      },
      "source": [
        "# install hashcat and dependencies\n",
        "!git clone https://github.com/hashcat/hashcat.git && cd hashcat && make -j `nproc` && make install "
      ],
      "execution_count": null,
      "outputs": []
    },
    {
      "cell_type": "markdown",
      "metadata": {
        "id": "rq-3WD56B6ea",
        "colab_type": "text"
      },
      "source": [
        "## Upload wordlist\n",
        "\n",
        "\n",
        "---\n",
        "\n"
      ]
    },
    {
      "cell_type": "markdown",
      "metadata": {
        "id": "x5QqfRnfOdag",
        "colab_type": "text"
      },
      "source": [
        "Upload custom wordlist\n"
      ]
    },
    {
      "cell_type": "code",
      "metadata": {
        "id": "hInGz29HJuXU",
        "colab_type": "code",
        "colab": {}
      },
      "source": [
        "#upload to runtime only (deletes after session closed)\n",
        "from google.colab import files\n",
        "uploaded = files.upload()\n",
        "\n",
        "for fn in uploaded.keys(): filename = fn"
      ],
      "execution_count": null,
      "outputs": []
    },
    {
      "cell_type": "markdown",
      "metadata": {
        "id": "Hu1V0RsNNomM",
        "colab_type": "text"
      },
      "source": [
        "Download wordlist from internet"
      ]
    },
    {
      "cell_type": "code",
      "metadata": {
        "id": "HHv4ADESNmzG",
        "colab_type": "code",
        "colab": {}
      },
      "source": [
        "# download wordlist to runtime (deletes after session closed)\n",
        "!wget https://raw.githubusercontent.com/danielmiessler/SecLists/master/Passwords/Common-Credentials/10-million-password-list-top-10000.txt -O top10000.txt\n",
        "filename = top10000.txt"
      ],
      "execution_count": null,
      "outputs": []
    },
    {
      "cell_type": "code",
      "metadata": {
        "id": "Sur_3ogRMw10",
        "colab_type": "code",
        "colab": {}
      },
      "source": [
        "#upload wordlist to Drive (saves wordlist for later sessions)\n",
        "\n",
        "#authenticate user\n",
        "from pydrive.auth import GoogleAuth\n",
        "from pydrive.drive import GoogleDrive\n",
        "from google.colab import auth\n",
        "from oauth2client.client import GoogleCredentials\n",
        "import os\n",
        "\n",
        "auth.authenticate_user()\n",
        "gauth = GoogleAuth()\n",
        "gauth.credentials = GoogleCredentials.get_application_default()\n",
        "drive = GoogleDrive(gauth)\n",
        "\n",
        "with open(filename,\"r\") as file:\n",
        "  file_drive = drive.CreateFile({'title':os.path.basename(file.name) })  \n",
        "  file_drive.SetContentString(file.read()) \n",
        "  file_drive.Upload()"
      ],
      "execution_count": null,
      "outputs": []
    },
    {
      "cell_type": "markdown",
      "metadata": {
        "id": "pUQ3mFxMCBf4",
        "colab_type": "text"
      },
      "source": [
        "## Upload file to crack\n",
        "\n",
        "\n",
        "---\n",
        "\n"
      ]
    },
    {
      "cell_type": "code",
      "metadata": {
        "id": "t3Jb5AunBxck",
        "colab_type": "code",
        "colab": {}
      },
      "source": [
        "#file only saves to runtime, deletes after session is closed\n",
        "from google.colab import files\n",
        "uploaded = files.upload()"
      ],
      "execution_count": null,
      "outputs": []
    },
    {
      "cell_type": "markdown",
      "metadata": {
        "id": "jNxMNePSQYy_",
        "colab_type": "text"
      },
      "source": [
        "## Crack it!\n",
        "\n",
        "---\n",
        "\n"
      ]
    },
    {
      "cell_type": "markdown",
      "metadata": {
        "id": "51ni-QAuCPax",
        "colab_type": "text"
      },
      "source": [
        "*check GitHub for runtime clicker code*"
      ]
    },
    {
      "cell_type": "markdown",
      "metadata": {
        "id": "MpE3-B-8hWcQ",
        "colab_type": "text"
      },
      "source": [
        "Setup SSH (full Linux environment, better for long sessions)"
      ]
    },
    {
      "cell_type": "code",
      "metadata": {
        "id": "ZWY9ORu2hOL1",
        "colab_type": "code",
        "colab": {}
      },
      "source": [
        "# sign up for Ngrok first\n",
        "!pip install git+https://github.com/demotomohiro/remocolab.git\n",
        "import remocolab\n",
        "remocolab.setupSSHD()"
      ],
      "execution_count": null,
      "outputs": []
    },
    {
      "cell_type": "code",
      "metadata": {
        "id": "Z5lDhjaQiiSy",
        "colab_type": "code",
        "colab": {}
      },
      "source": [
        "!/bin/bash # invokes bash shell, but input is hidden"
      ],
      "execution_count": null,
      "outputs": []
    },
    {
      "cell_type": "markdown",
      "metadata": {
        "id": "0KpU8mC8iDaW",
        "colab_type": "text"
      },
      "source": [
        "Put code below to run!"
      ]
    },
    {
      "cell_type": "code",
      "metadata": {
        "id": "JbATZbP-Ql-D",
        "colab_type": "code",
        "colab": {}
      },
      "source": [
        "!hashcat -m 2500 -w 4 wordlist.txt fileToCrack.hccapx"
      ],
      "execution_count": null,
      "outputs": []
    }
  ]
}